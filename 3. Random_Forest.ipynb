{
 "cells": [
  {
   "cell_type": "markdown",
   "metadata": {},
   "source": [
    "# 3. Random FOrest"
   ]
  },
  {
   "cell_type": "code",
   "execution_count": 1,
   "metadata": {},
   "outputs": [],
   "source": [
    "import time\n",
    "import pandas as pd\n",
    "import matplotlib.pyplot as plt\n",
    "import numpy as np\n",
    "import pandas_gbq\n",
    "from sklearn.model_selection import RandomizedSearchCV\n",
    "from sklearn.model_selection import train_test_split\n",
    "from sklearn.ensemble import RandomForestClassifier\n",
    "from Functions.confusion_matrix import plot_confusion_matrix\n",
    "from sklearn.preprocessing import StandardScaler\n",
    "from scipy.stats import randint as sp_randint"
   ]
  },
  {
   "cell_type": "code",
   "execution_count": null,
   "metadata": {},
   "outputs": [],
   "source": [
    "#Define functions\n",
    "\n",
    "# Utility function to report best scores\n",
    "def report(results, n_top=3):\n",
    "    for i in range(1, n_top + 1):\n",
    "        candidates = np.flatnonzero(results['rank_test_score'] == i)\n",
    "        for candidate in candidates:\n",
    "            print(\"Model with rank: {0}\".format(i))\n",
    "            print(\"Mean validation score: {0:.3f} (std: {1:.3f})\".format(\n",
    "                  results['mean_test_score'][candidate],\n",
    "                  results['std_test_score'][candidate]))\n",
    "            print(\"Parameters: {0}\".format(results['params'][candidate]))\n",
    "            print(\"\")"
   ]
  },
  {
   "cell_type": "code",
   "execution_count": 2,
   "metadata": {},
   "outputs": [],
   "source": [
    "#Call BigQuery\n",
    "\n",
    "\"\"\"\n",
    "1st - Call bigquery and create new dataset then tables\n",
    "2nd - Upload jsons to bigquery\n",
    "3rd - Query the data tables to pull in the necessary information\n",
    "\"\"\"\n",
    "\n",
    "#1 Call bigquery and create new dataset then tables\n",
    "\n",
    "#Call BigQuery\n",
    "from google.cloud import bigquery\n",
    "from google.oauth2 import service_account\n",
    "\n",
    "#credentials \n",
    "credentials = service_account.Credentials.from_service_account_file(\n",
    "    '*****_credentials.json')\n",
    "\n",
    "#Project id name\n",
    "project_id = '*****'\n",
    "\n",
    "#create the client\n",
    "client = bigquery.Client(credentials= credentials,project=project_id)"
   ]
  },
  {
   "cell_type": "code",
   "execution_count": 3,
   "metadata": {},
   "outputs": [
    {
     "name": "stdout",
     "output_type": "stream",
     "text": [
      "Query time was 2.47 minutes\n"
     ]
    }
   ],
   "source": [
    "#Import data\n",
    "sql = \"\"\"\n",
    "    SELECT A.sku, A.inventory, A.pieces_past_due, A.min_rec_stock,\n",
    "      B.sales_1_mon, B.sales_3_mon, B.sales_6_mon,\n",
    "      C.forecast_3_mon, C.forecast_6_mon,\n",
    "      D.lead_time, D.potential_issue,\n",
    "      E.backorder\n",
    "FROM `backorder_chain_example.inventory` as A\n",
    "INNER JOIN  `backorder_chain_example.sales`  as B\n",
    "ON A.sku = B.sku\n",
    "INNER JOIN `backorder_chain_example.forecast` as C\n",
    "ON A.sku = C.sku\n",
    "INNER JOIN `backorder_chain_example.inventory_ordering` as D\n",
    "ON A.sku = D.sku\n",
    "INNER JOIN `backorder_chain_example.backorder` as E\n",
    "ON A.sku = E.sku\n",
    "  \"\"\"\n",
    "start = time.time()\n",
    "\n",
    "#We will imput the data from the query and re-create the dataframe we created earlier\n",
    "df = pd.read_gbq(sql, dialect='standard', project_id=project_id)\n",
    "\n",
    "end = time.time()\n",
    "print(\"Query time was \" + str(np.round((end-start)/60,2)) + \" minutes\")"
   ]
  },
  {
   "cell_type": "code",
   "execution_count": 4,
   "metadata": {},
   "outputs": [
    {
     "name": "stderr",
     "output_type": "stream",
     "text": [
      "Using TensorFlow backend.\n"
     ]
    },
    {
     "name": "stdout",
     "output_type": "stream",
     "text": [
      "Unbalanced count is Counter({0: 1140175, 1: 59825})\n",
      "Rebalanced count is Counter({0: 1140175, 1: 1140175})\n"
     ]
    }
   ],
   "source": [
    "#Define X and y\n",
    "y = df['backorder']\n",
    "X = df.drop(columns=['backorder'])\n",
    "y_classes = np.array(['no_backorder', 'Backorder'])\n",
    "\n",
    "#Get training set\n",
    "X_train, X_test, y_train, y_test = train_test_split(X, y, test_size=0.2, random_state=1)\n",
    "\n",
    "#Get test and dev sets\n",
    "X_dev, X_test, y_dev, y_test = train_test_split(X_test, y_test, test_size = 0.5, random_state = 1)\n",
    "\n",
    "X_train = X_train.drop(columns=['sku'])\n",
    "test_sku = X_test['sku']\n",
    "X_test = X_test.drop(columns=['sku'])\n",
    "dev_sku = X_dev['sku']\n",
    "X_dev = X_dev.drop(columns=['sku'])\n",
    "\n",
    "#Standardize\n",
    "scaler = StandardScaler()\n",
    "X_train_std = scaler.fit_transform(X_train)\n",
    "\n",
    "#Using smote to rebalance data\n",
    "from collections import Counter\n",
    "\n",
    "#Import oversampling \n",
    "from imblearn.over_sampling import SMOTE\n",
    "sm = SMOTE(random_state=42)\n",
    "\n",
    "#Resample\n",
    "current_count = Counter(y_train)\n",
    "print(f\"Unbalanced count is {current_count}\")\n",
    "\n",
    "X_res, y_res = sm.fit_resample(X_train_std, y_train)\n",
    "\n",
    "resampled_count = Counter(y_res)\n",
    "print(f\"Rebalanced count is {resampled_count}\")"
   ]
  },
  {
   "cell_type": "code",
   "execution_count": 5,
   "metadata": {},
   "outputs": [
    {
     "name": "stderr",
     "output_type": "stream",
     "text": [
      "/anaconda3/envs/Tensorflow/lib/python3.6/site-packages/sklearn/ensemble/forest.py:245: FutureWarning: The default value of n_estimators will change from 10 in version 0.20 to 100 in 0.22.\n",
      "  \"10 in version 0.20 to 100 in 0.22.\", FutureWarning)\n"
     ]
    }
   ],
   "source": [
    "clf = RandomForestClassifier(n_jobs=2, random_state=0)\n",
    "model = clf.fit(X_res,y_res)"
   ]
  },
  {
   "cell_type": "code",
   "execution_count": 6,
   "metadata": {},
   "outputs": [
    {
     "name": "stdout",
     "output_type": "stream",
     "text": [
      "Normalized confusion matrix\n",
      "[[0.98803749 0.01196251]\n",
      " [0.76624752 0.23375248]]\n"
     ]
    },
    {
     "data": {
      "image/png": "[encoded data removed]",
      "text/plain": [
       "<Figure size 432x288 with 2 Axes>"
      ]
     },
     "metadata": {
      "needs_background": "light"
     },
     "output_type": "display_data"
    }
   ],
   "source": [
    "#Test accuracy of X_test\n",
    "X_dev_std = scaler.transform(X_dev)\n",
    "\n",
    "y_dev_pred = model.predict(X_dev_std)\n",
    "\n",
    "# Plot confusion matrix\n",
    "plot_confusion_matrix(y_dev, y_dev_pred, classes=y_classes, normalize=True, title='Confusion matrix')\n",
    "\n",
    "plt.show()"
   ]
  },
  {
   "cell_type": "code",
   "execution_count": null,
   "metadata": {},
   "outputs": [],
   "source": [
    "# build a classifier\n",
    "clf = RandomForestClassifier(n_estimators=20)\n",
    "\n",
    "# specify parameters and distributions to sample from\n",
    "param_dist = {\"max_depth\": [3, None],\n",
    "              \"max_features\": sp_randint(1, 11),\n",
    "              \"min_samples_split\": sp_randint(2, 11),\n",
    "              \"bootstrap\": [True, False],\n",
    "              \"criterion\": [\"gini\", \"entropy\"]}\n",
    "\n",
    "# run randomized search\n",
    "n_iter_search = 5\n",
    "best_model = RandomizedSearchCV(clf, param_distributions=param_dist,\n",
    "                                   n_iter=n_iter_search, cv=3, iid=False)\n",
    "\n",
    "start = time()\n",
    "best_model.fit(X_res, y_res)\n",
    "print(\"RandomizedSearchCV took %.2f seconds for %d candidates\"\n",
    "      \" parameter settings.\" % ((time() - start), n_iter_search))\n",
    "report(best_model.cv_results_)"
   ]
  },
  {
   "cell_type": "code",
   "execution_count": 63,
   "metadata": {},
   "outputs": [
    {
     "data": {
      "text/plain": [
       "(2280350, 11)"
      ]
     },
     "execution_count": 63,
     "metadata": {},
     "output_type": "execute_result"
    }
   ],
   "source": [
    "y_res.shape\n",
    "X_res.shape"
   ]
  },
  {
   "cell_type": "code",
   "execution_count": 59,
   "metadata": {},
   "outputs": [
    {
     "name": "stdout",
     "output_type": "stream",
     "text": [
      "Normalized confusion matrix\n",
      "[[0.99432061 0.00567939]\n",
      " [0.82594308 0.17405692]]\n"
     ]
    },
    {
     "data": {
      "image/png": "[encoded data removed]",
      "text/plain": [
       "<Figure size 432x288 with 2 Axes>"
      ]
     },
     "metadata": {
      "needs_background": "light"
     },
     "output_type": "display_data"
    }
   ],
   "source": [
    "y_dev_pred = best_model.predict(X_dev_std)\n",
    "\n",
    "# Plot confusion matrix\n",
    "plot_confusion_matrix(y_dev, y_dev_pred, classes=y_classes, normalize=True, title='Confusion matrix')\n",
    "\n",
    "plt.show()"
   ]
  }
 ],
 "metadata": {
  "kernelspec": {
   "display_name": "Python 3",
   "language": "python",
   "name": "python3"
  },
  "language_info": {
   "codemirror_mode": {
    "name": "ipython",
    "version": 3
   },
   "file_extension": ".py",
   "mimetype": "text/x-python",
   "name": "python",
   "nbconvert_exporter": "python",
   "pygments_lexer": "ipython3",
   "version": "3.6.8"
  }
 },
 "nbformat": 4,
 "nbformat_minor": 4
}
