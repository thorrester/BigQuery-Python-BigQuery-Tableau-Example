{
 "cells": [
  {
   "cell_type": "markdown",
   "metadata": {},
   "source": [
    "# 5. Predictions using an ensemble model"
   ]
  },
  {
   "cell_type": "markdown",
   "metadata": {},
   "source": [
    "### Ensemble Model\n",
    "- All of our models have subpar accuracy so far\n",
    "- What would the accuracy be in our predictions if we created a stacked ensemble model?"
   ]
  },
  {
   "cell_type": "code",
   "execution_count": 14,
   "metadata": {},
   "outputs": [],
   "source": [
    "#Dependencies\n",
    "import time\n",
    "from datetime import datetime\n",
    "import pandas as pd\n",
    "import pandas_gbq\n",
    "import numpy as np\n",
    "from scipy.stats import randint as sp_randint\n",
    "import matplotlib.pyplot as plt\n",
    "\n",
    "#Keras\n",
    "import tensorflow as tf\n",
    "import keras\n",
    "from keras import initializers\n",
    "from keras.callbacks import TensorBoard\n",
    "from keras.models import Sequential\n",
    "from keras.layers import Activation, Dense, Dropout\n",
    "from keras.layers.normalization import BatchNormalization\n",
    "from keras.models import load_model\n",
    "from livelossplot.keras import PlotLossesCallback\n",
    "\n",
    "#Sklearn libraries\n",
    "from sklearn.model_selection import train_test_split\n",
    "from sklearn.preprocessing import StandardScaler\n",
    "from sklearn.linear_model import LogisticRegression\n",
    "from sklearn.ensemble import RandomForestClassifier\n",
    "from sklearn.model_selection import RandomizedSearchCV\n",
    "from sklearn.metrics import confusion_matrix\n",
    "from sklearn.pipeline import Pipeline\n",
    "\n",
    "#Saving packages\n",
    "import pickle\n",
    "import joblib"
   ]
  },
  {
   "cell_type": "code",
   "execution_count": 21,
   "metadata": {},
   "outputs": [
    {
     "name": "stdout",
     "output_type": "stream",
     "text": [
      "[name: \"/device:CPU:0\"\n",
      "device_type: \"CPU\"\n",
      "memory_limit: 268435456\n",
      "locality {\n",
      "}\n",
      "incarnation: 13498707019011905724\n",
      ", name: \"/device:XLA_CPU:0\"\n",
      "device_type: \"XLA_CPU\"\n",
      "memory_limit: 17179869184\n",
      "locality {\n",
      "}\n",
      "incarnation: 1426669833260511167\n",
      "physical_device_desc: \"device: XLA_CPU device\"\n",
      ", name: \"/device:GPU:0\"\n",
      "device_type: \"GPU\"\n",
      "memory_limit: 11330115994\n",
      "locality {\n",
      "  bus_id: 1\n",
      "  links {\n",
      "  }\n",
      "}\n",
      "incarnation: 3095706815166863027\n",
      "physical_device_desc: \"device: 0, name: Tesla K80, pci bus id: 0000:00:04.0, compute capability: 3.7\"\n",
      ", name: \"/device:XLA_GPU:0\"\n",
      "device_type: \"XLA_GPU\"\n",
      "memory_limit: 17179869184\n",
      "locality {\n",
      "}\n",
      "incarnation: 1369873376964818652\n",
      "physical_device_desc: \"device: XLA_GPU device\"\n",
      "]\n"
     ]
    }
   ],
   "source": [
    "from tensorflow.python.client import device_lib\n",
    "print(device_lib.list_local_devices())"
   ]
  },
  {
   "cell_type": "code",
   "execution_count": 23,
   "metadata": {},
   "outputs": [
    {
     "name": "stdout",
     "output_type": "stream",
     "text": [
      "['/job:localhost/replica:0/task:0/device:GPU:0']\n"
     ]
    }
   ],
   "source": [
    "#Confirm keras is using GPU\n",
    "from keras import backend as K\n",
    "print(K.tensorflow_backend._get_available_gpus())\n",
    "\n",
    "#Manually set GPU config\n",
    "config = tf.ConfigProto(device_count = {'GPU': 1, 'CPU': 8})\n",
    "sess = tf.Session(config=config)\n",
    "keras.backend.set_session(sess)"
   ]
  },
  {
   "cell_type": "code",
   "execution_count": 24,
   "metadata": {},
   "outputs": [],
   "source": [
    "#Normalize data\n",
    "\n",
    "def normalize(X_train):\n",
    "    mean_val = np.mean(X_train, axis=0)\n",
    "    train_max = np.max(X_train, axis=0)\n",
    "    train_min = np.min(X_train,axis=0)\n",
    "    \n",
    "    train_norm = np.asanyarray((X_train-mean_val)/(train_max - train_min))\n",
    "    \n",
    "    return train_norm    "
   ]
  },
  {
   "cell_type": "code",
   "execution_count": 25,
   "metadata": {},
   "outputs": [],
   "source": [
    "#Call BigQuery\n",
    "\n",
    "\"\"\"\n",
    "1st - Call bigquery and create new dataset then tables\n",
    "2nd - Upload jsons to bigquery\n",
    "3rd - Query the data tables to pull in the necessary information\n",
    "\"\"\"\n",
    "\n",
    "#1 Call bigquery and create new dataset then tables\n",
    "\n",
    "#Call BigQuery\n",
    "from google.cloud import bigquery\n",
    "from google.oauth2 import service_account\n",
    "\n",
    "#credentials \n",
    "credentials = service_account.Credentials.from_service_account_file(\n",
    "    '*****_credentials.json')\n",
    "\n",
    "#Project id name\n",
    "project_id = '*****'\n",
    "\n",
    "#create the client\n",
    "client = bigquery.Client(credentials= credentials,project=project_id)"
   ]
  },
  {
   "cell_type": "code",
   "execution_count": 27,
   "metadata": {},
   "outputs": [
    {
     "name": "stdout",
     "output_type": "stream",
     "text": [
      "Query time was 2.47 minutes\n"
     ]
    }
   ],
   "source": [
    "#Import data\n",
    "sql = \"\"\"\n",
    "    SELECT A.sku, A.inventory, A.pieces_past_due, A.min_rec_stock,\n",
    "      B.sales_1_mon, B.sales_3_mon, B.sales_6_mon,\n",
    "      C.forecast_3_mon, C.forecast_6_mon,\n",
    "      D.lead_time, D.potential_issue,\n",
    "      E.backorder\n",
    "FROM `backorder_chain_example.inventory` as A\n",
    "INNER JOIN  `backorder_chain_example.sales`  as B\n",
    "ON A.sku = B.sku\n",
    "INNER JOIN `backorder_chain_example.forecast` as C\n",
    "ON A.sku = C.sku\n",
    "INNER JOIN `backorder_chain_example.inventory_ordering` as D\n",
    "ON A.sku = D.sku\n",
    "INNER JOIN `backorder_chain_example.backorder` as E\n",
    "ON A.sku = E.sku\n",
    "  \"\"\"\n",
    "start = time.time()\n",
    "\n",
    "#We will re-create the dataframe we created earlier from our SQL query\n",
    "df = pd.read_gbq(sql, dialect='standard', project_id=project_id)\n",
    "\n",
    "end = time.time()\n",
    "print(\"Query time was \" + str(np.round((end-start)/60,2)) + \" minutes\")"
   ]
  },
  {
   "cell_type": "code",
   "execution_count": 28,
   "metadata": {},
   "outputs": [
    {
     "name": "stdout",
     "output_type": "stream",
     "text": [
      "Training shape: (750000, 10)\n",
      "Dev shape: (727500, 10)\n",
      "Test shape: (22500, 10)\n"
     ]
    }
   ],
   "source": [
    "#Define X and y\n",
    "y = df['backorder']\n",
    "X = df.drop(columns=['backorder'])\n",
    "y_classes = np.array(['no_backorder', 'Backorder'])\n",
    "\n",
    "#Get training set\n",
    "X_train, X_test, y_train, y_test = train_test_split(X, y, test_size=0.5, random_state=1)\n",
    "\n",
    "#Get test and dev sets\n",
    "X_dev, X_test, y_dev, y_test = train_test_split(X_test, y_test, test_size = 0.03, random_state = 1)\n",
    "\n",
    "X_train = X_train.drop(columns=['sku'])\n",
    "test_sku = X_test['sku']\n",
    "X_test = X_test.drop(columns=['sku'])\n",
    "dev_sku = X_dev['sku']\n",
    "X_dev = X_dev.drop(columns=['sku'])\n",
    "\n",
    "#Shape\n",
    "print(\"Training shape: \" + str(X_train.shape))\n",
    "print(\"Dev shape: \" + str(X_dev.shape))\n",
    "print(\"Test shape: \" + str(X_test.shape))"
   ]
  },
  {
   "cell_type": "code",
   "execution_count": 29,
   "metadata": {},
   "outputs": [
    {
     "name": "stdout",
     "output_type": "stream",
     "text": [
      "Unbalanced count for training data is Counter({0: 712415, 1: 37585})\n",
      "Unbalanced count for dev data is Counter({0: 691221, 1: 36279})\n",
      "Rebalanced count for training data is Counter({0: 712415, 1: 712415})\n",
      "Rebalanced count for dev data is Counter({0: 691221, 1: 691221})\n"
     ]
    }
   ],
   "source": [
    "#Using smote to rebalance data\n",
    "from collections import Counter\n",
    "\n",
    "#Import oversampling \n",
    "from imblearn.over_sampling import SMOTE\n",
    "sm = SMOTE(random_state=42)\n",
    "\n",
    "#Resample\n",
    "train_count = Counter(y_train)\n",
    "dev_count = Counter(y_dev)\n",
    "print(f\"Unbalanced count for training data is {train_count}\")\n",
    "print(f\"Unbalanced count for dev data is {dev_count}\")\n",
    "\n",
    "X_train_res, y_train_res = sm.fit_resample(X_train, y_train)\n",
    "\n",
    "X_dev_res, y_dev_res = sm.fit_resample(X_dev, y_dev)\n",
    "\n",
    "training_resampled_count = Counter(y_train_res)\n",
    "dev_resampled_count = Counter(y_dev_res)\n",
    "print(f\"Rebalanced count for training data is {training_resampled_count}\")\n",
    "print(f\"Rebalanced count for dev data is {dev_resampled_count}\")"
   ]
  },
  {
   "cell_type": "code",
   "execution_count": 31,
   "metadata": {},
   "outputs": [],
   "source": [
    "#Backorder class\n",
    "\n",
    "class BackorderPredict(): \n",
    "    \n",
    "    \"\"\"\n",
    "    Ensemble model for predicting backorder\n",
    "    \"\"\"\n",
    "\n",
    "    def __init__(self, n_iter=3, cv=3, n_jobs=-1):\n",
    "        \"\"\"\n",
    "        Called when initializing the classifier\n",
    "        \"\"\"\n",
    "        self.n_iter = n_iter\n",
    "        self.cv = cv\n",
    "        self.n_jobs = n_jobs\n",
    "        \n",
    "    def fit(self, X_train, y_train, X_dev, y_dev):\n",
    "        \n",
    "        \"\"\"\n",
    "        ///////////////////////////////////Layer 1 of ensemble model ////////////////////////////////////////\n",
    "        \"\"\"\n",
    "    \n",
    "        #--------------------------Create logistic regression pipe--------------------------------------------\n",
    "        lr_pipe = Pipeline([('scale', StandardScaler()),\n",
    "                         (\"logistic_regression\", LogisticRegression(random_state=0, solver='lbfgs'))])\n",
    "\n",
    "        #Fit lr model\n",
    "        lr_pipe.fit(X_train, y_train)\n",
    "    \n",
    "        # save the model\n",
    "        lr_filename = 'Data/lr_pipe.sav'\n",
    "        joblib.dump(lr_pipe, lr_filename)\n",
    "        print(\"Logistic regression complete and saved\")\n",
    "\n",
    "        #----------------------------Create random forest pipe-------------------------------------------------\n",
    "        rf_clf = RandomForestClassifier(n_estimators=20, n_jobs=self.n_jobs, random_state=0)\n",
    "\n",
    "        #Specify parameters and distributions to sample from\n",
    "        param_dist = {\"max_depth\": [3, None],\n",
    "                      \"max_features\": sp_randint(1, 10),\n",
    "                      \"min_samples_split\": sp_randint(2, 10),\n",
    "                      \"bootstrap\": [True, False],\n",
    "                      \"criterion\": [\"gini\", \"entropy\"]}\n",
    "    \n",
    "        #RF model\n",
    "        rf_model = RandomizedSearchCV(rf_clf, param_distributions=param_dist,\n",
    "                                   n_iter=self.n_iter, cv=self.cv, iid=False)\n",
    "    \n",
    "        #RF pipe\n",
    "        rf_pipe = Pipeline([('scale', StandardScaler()),\n",
    "                            (\"Random forest\", rf_model)])\n",
    "\n",
    "        #Fit rf model\n",
    "        rf_pipe.fit(X_train, y_train)\n",
    "    \n",
    "        # save the model to disk\n",
    "        rf_filename = 'Data/rf_pipe.sav'\n",
    "        joblib.dump(rf_pipe, rf_filename)\n",
    "        print(\"Random forest complete and saved\")\n",
    "        \n",
    "        #----------------------------Create neural network-------------------------------------------------------------------------------\n",
    "    \n",
    "        X_train_norm = normalize(X_train)\n",
    "\n",
    "        input_dim_ = X_train_norm.shape[1]\n",
    "    \n",
    "        #Build and compile model (3 layers)\n",
    "        nn_model = Sequential()\n",
    "        nn_model.add(Dense(10, input_dim = input_dim_, activation='relu', bias_initializer=initializers.Constant(value=0.1)))\n",
    "        nn_model.add(Dense(5, activation='relu', bias_initializer=initializers.Constant(value=0.1)))\n",
    "        nn_model.add(Dense(1, activation='sigmoid'))\n",
    "        nn_model.compile(loss='binary_crossentropy', optimizer='adam', metrics=['accuracy'])\n",
    "    \n",
    "        #Fit\n",
    "        start = time.time()\n",
    "        \n",
    "        nn_model.fit(X_train_norm, y_train, \n",
    "                     verbose=0, validation_split= .01, \n",
    "                     epochs=100, batch_size=128, \n",
    "                     callbacks=[PlotLossesCallback()])\n",
    "        \n",
    "        end = time.time()\n",
    "        print(\"NN training time was \" + str(np.round((end-start)/60,2)) + \" minutes\")\n",
    "        \n",
    "        # save the model to disk\n",
    "        nn_model.save(\"Data/nn_model.h5\")\n",
    "        print(\"Neural net complete and saved\")\n",
    "        \n",
    "         #-------------Get pedictions and probabilities------------------------------------------------------------------------------------\n",
    "    \n",
    "        models = {\"lr\":lr_pipe, \"rf\":rf_pipe, \"nn\":nn_model}\n",
    "        probs={}\n",
    "        preds={}\n",
    "        for name,model in models.items():\n",
    "            if name != \"nn\":\n",
    "                probs[name] = model.predict_proba(X_dev)[:,1:].ravel()\n",
    "                preds[name] = model.predict(X_dev)\n",
    "            else:\n",
    "                X_dev_norm = normalize(X_dev)\n",
    "                probs[name] = model.predict(X_dev_norm).ravel()\n",
    "                preds[name] = model.predict_classes(X_dev_norm).ravel() \n",
    "            \n",
    "        #Calcualte correct predictions of backorders\n",
    "        accuracy_weights={}\n",
    "        for name in preds.keys():\n",
    "            sub_preds = preds[name]\n",
    "            matrix = confusion_matrix(y_dev, sub_preds)\n",
    "            array = matrix / matrix.astype(np.float).sum(axis=1)[:, np.newaxis]\n",
    "            accuracy_weights[name] = np.round(array[1][1].astype(float), 4)\n",
    "        \n",
    "        #Save accuracy weights\n",
    "        with open('Data/accuracy_weights.pickle', 'wb') as handle:\n",
    "            pickle.dump(accuracy_weights, handle, protocol=pickle.HIGHEST_PROTOCOL)\n",
    "    \n",
    "        #Create weighted dictionary\n",
    "        weighted_probs = {name: np.multiply(probs[name], accuracy_weights[name]) for name in accuracy_weights.keys()}\n",
    "       \n",
    "        #Convert dictionary into dataframe\n",
    "        weighted_df = pd.DataFrame.from_dict(weighted_probs)\n",
    "        \n",
    "        \"\"\"\n",
    "        ///////////////////////////////////Layer 2 of ensemble model ////////////////////////////////////////\n",
    "        \"\"\"\n",
    "    \n",
    "        #Normalize predictions\n",
    "        weighted_df_norm = normalize(weighted_df)\n",
    "\n",
    "        input_dim_ = weighted_df_norm.shape[1]\n",
    "    \n",
    "        #Build and compile network\n",
    "        nn_model_stack = Sequential()\n",
    "        nn_model_stack.add(Dense(3, input_dim = input_dim_, activation='relu', bias_initializer=initializers.Constant(value=0.1)))               \n",
    "        nn_model_stack.add(Dense(5, activation='relu',bias_initializer=initializers.Constant(value=0.1)))\n",
    "        nn_model_stack.add(Dense(1, activation='sigmoid'))\n",
    "        nn_model_stack.compile(loss='binary_crossentropy', optimizer='adam', metrics=['accuracy'])\n",
    "\n",
    "        #Run the model\n",
    "        nn_model_stack.fit(weighted_df_norm, y_dev, \n",
    "                           verbose=0, validation_split= .01, \n",
    "                           epochs=100, batch_size=128, \n",
    "                           callbacks=[PlotLossesCallback()])\n",
    "\n",
    "        # save the model to disk\n",
    "        nn_model_stack.save(\"Data/nn_model_stack.h5\")\n",
    "        print('Meta-learner now finished and saved')\n",
    "        \n",
    "    def predict_prob(self, X_test):\n",
    "        \n",
    "        #------------------------Load models-------------------------------------\n",
    "    \n",
    "        #load the logistic regression model\n",
    "        lr_pipe = joblib.load('Data/lr_pipe.sav')\n",
    "    \n",
    "        #load random forest model\n",
    "        rf_pipe = joblib.load('Data/rf_pipe.sav')\n",
    "    \n",
    "        #load neural network #1\n",
    "        nn_model = load_model('Data/nn_model.h5')\n",
    "    \n",
    "        #load neural network #2\n",
    "        nn_model_stack = load_model('Data/nn_model_stack.h5')\n",
    "    \n",
    "        #Import accuracy weights\n",
    "        with open(\"Data/accuracy_weights.pickle\", \"rb\") as input_file:\n",
    "            accuracy_weights = pickle.load(input_file)\n",
    "            \n",
    "        for name in accuracy_weights.keys():\n",
    "            if not accuracy_weights[name] > 0.0:\n",
    "                raise ValueError(f\"{name} is not greater than zero\")\n",
    "    \n",
    "        #------------------------Get predictions-----------------------------------\n",
    "\n",
    "        models = {\"lr\":lr_pipe, \"rf\":rf_pipe, \"nn\":nn_model}\n",
    "        probs={}\n",
    "        preds={}\n",
    "        for name,model in models.items():\n",
    "            if name != \"nn\":\n",
    "                probs[name] = model.predict_proba(X_test)[:,1:].ravel()\n",
    "                preds[name] = model.predict(X_test)\n",
    "            else:\n",
    "                X_test_norm = normalize(X_test)\n",
    "                probs[name] = model.predict(X_test_norm).ravel()\n",
    "                preds[name] = model.predict_classes(X_test_norm).ravel() \n",
    "            \n",
    "        #Create weighted dictionary\n",
    "        weighted_probs = {}\n",
    "        for name in accuracy_weights.keys():\n",
    "            weighted_probs[name] = np.multiply(probs[name], accuracy_weights[name])\n",
    "    \n",
    "        #Convert dictionary into dataframe\n",
    "        weighted_df = pd.DataFrame.from_dict(weighted_probs)\n",
    "    \n",
    "    \n",
    "        #-----------------------Get predictions from 2nd layer-------------------------\n",
    "    \n",
    "        #Normalize predictions\n",
    "        weighted_df_norm = normalize(weighted_df)\n",
    "    \n",
    "        new_predictions = nn_model_stack.predict(weighted_df_norm).ravel()\n",
    "    \n",
    "        return new_predictions  \n",
    "    \n",
    "    def predict_class(self, X_test):\n",
    "        \n",
    "        #------------------------Load models-------------------------------------\n",
    "    \n",
    "        #load the logistic regression model\n",
    "        lr_pipe = joblib.load('Data/lr_pipe.sav')\n",
    "    \n",
    "        #load random forest model\n",
    "        rf_pipe = joblib.load('Data/rf_pipe.sav')\n",
    "    \n",
    "        #load neural network #1\n",
    "        nn_model = load_model('Data/nn_model.h5')\n",
    "    \n",
    "        #load neural network #2\n",
    "        nn_model_stack = load_model('Data/nn_model_stack.h5')\n",
    "    \n",
    "        #Import accuracy weights\n",
    "        with open(\"Data/accuracy_weights.pickle\", \"rb\") as input_file:\n",
    "            accuracy_weights = pickle.load(input_file)\n",
    "            \n",
    "        for name in accuracy_weights.keys():\n",
    "            if not accuracy_weights[name] > 0.0:\n",
    "                raise ValueError(f\"{name} is not greater than zero\")\n",
    "    \n",
    "        #------------------------Get predictions-----------------------------------\n",
    "\n",
    "        models = {\"lr\":lr_pipe, \"rf\":rf_pipe, \"nn\":nn_model}\n",
    "        probs={}\n",
    "        preds={}\n",
    "        for name,model in models.items():\n",
    "            if name != \"nn\":\n",
    "                probs[name] = model.predict_proba(X_test)[:,1:].ravel()\n",
    "                preds[name] = model.predict(X_test)\n",
    "            else:\n",
    "                X_test_norm = normalize(X_test)\n",
    "                probs[name] = model.predict(X_test_norm).ravel()\n",
    "                preds[name] = model.predict_classes(X_test_norm).ravel() \n",
    "            \n",
    "        #Create weighted dictionary\n",
    "        weighted_probs = {}\n",
    "        for name in accuracy_weights.keys():\n",
    "            weighted_probs[name] = np.multiply(probs[name], accuracy_weights[name])\n",
    "    \n",
    "        #Convert dictionary into dataframe\n",
    "        weighted_df = pd.DataFrame.from_dict(weighted_probs)\n",
    "    \n",
    "    \n",
    "        #-----------------------Get predictions from 2nd layer-------------------------\n",
    "    \n",
    "        #Normalize predictions\n",
    "        weighted_df_norm = normalize(weighted_df)\n",
    "    \n",
    "        new_predictions = nn_model_stack.predict(weighted_df_norm).ravel()\n",
    "        \n",
    "        predictions = np.where(new_predictions >= 0.5, 1, 0)\n",
    "    \n",
    "        return predictions"
   ]
  },
  {
   "cell_type": "code",
   "execution_count": 33,
   "metadata": {},
   "outputs": [],
   "source": [
    "model = BackorderPredict()"
   ]
  },
  {
   "cell_type": "code",
   "execution_count": 30,
   "metadata": {},
   "outputs": [
    {
     "data": {
      "image/png": "[encoded data removed]",
      "text/plain": [
       "<Figure size 864x576 with 2 Axes>"
      ]
     },
     "metadata": {
      "needs_background": "light"
     },
     "output_type": "display_data"
    },
    {
     "name": "stdout",
     "output_type": "stream",
     "text": [
      "Log-loss (cost function):\n",
      "training   (min:    0.321, max:    0.337, cur:    0.321)\n",
      "validation (min:    0.291, max:    0.341, cur:    0.310)\n",
      "\n",
      "Accuracy:\n",
      "training   (min:    0.862, max:    0.863, cur:    0.863)\n",
      "validation (min:    0.845, max:    0.864, cur:    0.852)\n",
      "Meta-learner now finished and saved\n"
     ]
    }
   ],
   "source": [
    "model.fit(X_train_res,y_train_res, X_dev_res,y_dev_res)"
   ]
  },
  {
   "cell_type": "code",
   "execution_count": 35,
   "metadata": {},
   "outputs": [],
   "source": [
    "y_preds = model.predict_class(X_test)"
   ]
  },
  {
   "cell_type": "code",
   "execution_count": 34,
   "metadata": {},
   "outputs": [],
   "source": [
    "np.save('y_preds', y_preds)"
   ]
  },
  {
   "cell_type": "code",
   "execution_count": 40,
   "metadata": {},
   "outputs": [],
   "source": [
    "#Define confusion plot\n",
    "from sklearn.utils.multiclass import unique_labels\n",
    "def plot_confusion_matrix(y_true, y_pred, classes,\n",
    "                          normalize=False,\n",
    "                          title=None,\n",
    "                          cmap=plt.cm.Blues):\n",
    "    \"\"\"\n",
    "    This function prints and plots the confusion matrix.\n",
    "    Normalization can be applied by setting `normalize=True`.\n",
    "    \"\"\"\n",
    "    if not title:\n",
    "        if normalize:\n",
    "            title = 'Normalized confusion matrix'\n",
    "        else:\n",
    "            title = 'Confusion matrix, without normalization'\n",
    "\n",
    "    # Compute confusion matrix\n",
    "    cm = confusion_matrix(y_true, y_pred)\n",
    "    # Only use the labels that appear in the data\n",
    "    classes = classes[unique_labels(y_true, y_pred)]\n",
    "    if normalize:\n",
    "        cm = cm.astype('float') / cm.sum(axis=1)[:, np.newaxis]\n",
    "        print(\"Normalized confusion matrix\")\n",
    "    else:\n",
    "        print('Confusion matrix, without normalization')\n",
    "\n",
    "    print(cm)\n",
    "\n",
    "    fig, ax = plt.subplots()\n",
    "    im = ax.imshow(cm, interpolation='nearest', cmap=cmap)\n",
    "    ax.figure.colorbar(im, ax=ax)\n",
    "    # We want to show all ticks...\n",
    "    ax.set(xticks=np.arange(cm.shape[1]),\n",
    "           yticks=np.arange(cm.shape[0]),\n",
    "           # ... and label them with the respective list entries\n",
    "           xticklabels=classes, yticklabels=classes,\n",
    "           title=title,\n",
    "           ylabel='True label',\n",
    "           xlabel='Predicted label')\n",
    "\n",
    "    # Rotate the tick labels and set their alignment.\n",
    "    plt.setp(ax.get_xticklabels(), rotation=45, ha=\"right\",\n",
    "             rotation_mode=\"anchor\")\n",
    "\n",
    "    # Loop over data dimensions and create text annotations.\n",
    "    fmt = '.2f' if normalize else 'd'\n",
    "    thresh = cm.max() / 2.\n",
    "    for i in range(cm.shape[0]):\n",
    "        for j in range(cm.shape[1]):\n",
    "            ax.text(j, i, format(cm[i, j], fmt),\n",
    "                    ha=\"center\", va=\"center\",\n",
    "                    color=\"white\" if cm[i, j] > thresh else \"black\")\n",
    "    fig.tight_layout()\n",
    "    return ax"
   ]
  },
  {
   "cell_type": "code",
   "execution_count": 41,
   "metadata": {},
   "outputs": [
    {
     "name": "stdout",
     "output_type": "stream",
     "text": [
      "22500\n",
      "22500\n"
     ]
    }
   ],
   "source": [
    "print(len(y_preds))\n",
    "print(len(y_test))"
   ]
  },
  {
   "cell_type": "code",
   "execution_count": 42,
   "metadata": {},
   "outputs": [
    {
     "name": "stdout",
     "output_type": "stream",
     "text": [
      "Normalized confusion matrix\n",
      "[[0.56351807 0.43648193]\n",
      " [0.10827465 0.89172535]]\n"
     ]
    },
    {
     "data": {
      "text/plain": [
       "<matplotlib.axes._subplots.AxesSubplot at 0x7fd17470c6d8>"
      ]
     },
     "execution_count": 42,
     "metadata": {},
     "output_type": "execute_result"
    },
    {
     "data": {
      "image/png": "[encoded data removed]",
      "text/plain": [
       "<Figure size 432x288 with 2 Axes>"
      ]
     },
     "metadata": {
      "needs_background": "light"
     },
     "output_type": "display_data"
    }
   ],
   "source": [
    "plot_confusion_matrix(y_test,y_preds, classes=y_classes, normalize=True)"
   ]
  },
  {
   "cell_type": "markdown",
   "metadata": {},
   "source": [
    "### We have increased accuracy in our backorder prediction but reduced accuracy in predicitng all others\n",
    "- This is to be expected due to the extreme noise and overlap in the data"
   ]
  }
 ],
 "metadata": {
  "kernelspec": {
   "display_name": "Python 3",
   "language": "python",
   "name": "python3"
  },
  "language_info": {
   "codemirror_mode": {
    "name": "ipython",
    "version": 3
   },
   "file_extension": ".py",
   "mimetype": "text/x-python",
   "name": "python",
   "nbconvert_exporter": "python",
   "pygments_lexer": "ipython3",
   "version": "3.6.8"
  }
 },
 "nbformat": 4,
 "nbformat_minor": 4
}
