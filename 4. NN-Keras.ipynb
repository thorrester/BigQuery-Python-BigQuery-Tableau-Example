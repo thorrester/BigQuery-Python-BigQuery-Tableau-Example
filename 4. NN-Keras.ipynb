{
 "cells": [
  {
   "cell_type": "markdown",
   "metadata": {},
   "source": [
    "# 4. Deep Neural Network with Keras"
   ]
  },
  {
   "cell_type": "code",
   "execution_count": 134,
   "metadata": {},
   "outputs": [],
   "source": [
    "#Install Dependencies\n",
    "\n",
    "import time\n",
    "import datetime\n",
    "import pandas as pd\n",
    "from keras.models import Sequential\n",
    "from keras.layers import Dense\n",
    "import keras\n",
    "import pandas_gbq\n",
    "import numpy as np\n",
    "from sklearn.model_selection import train_test_split\n",
    "from sklearn.preprocessing import StandardScaler\n",
    "from Functions.confusion_matrix import plot_confusion_matrix\n",
    "import math\n",
    "import matplotlib.pyplot as plt\n",
    "from datetime import datetime\n",
    "from keras.callbacks import TensorBoard"
   ]
  },
  {
   "cell_type": "code",
   "execution_count": 76,
   "metadata": {},
   "outputs": [],
   "source": [
    "#Call BigQuery\n",
    "\n",
    "\"\"\"\n",
    "1st - Call bigquery and create new dataset then tables\n",
    "2nd - Upload jsons to bigquery\n",
    "3rd - Query the data tables to pull in the necessary information\n",
    "\"\"\"\n",
    "\n",
    "#1 Call bigquery and create new dataset then tables\n",
    "\n",
    "#Call BigQuery\n",
    "from google.cloud import bigquery\n",
    "from google.oauth2 import service_account\n",
    "\n",
    "#credentials \n",
    "credentials = service_account.Credentials.from_service_account_file(\n",
    "    '*****_credentials.json')\n",
    "\n",
    "#Project id name\n",
    "project_id = '*****'\n",
    "\n",
    "#create the client\n",
    "client = bigquery.Client(credentials= credentials,project=project_id)"
   ]
  },
  {
   "cell_type": "code",
   "execution_count": 77,
   "metadata": {},
   "outputs": [
    {
     "name": "stdout",
     "output_type": "stream",
     "text": [
      "Query time was 2.79 minutes\n"
     ]
    }
   ],
   "source": [
    "#Import data\n",
    "sql = \"\"\"\n",
    "    SELECT A.sku, A.inventory, A.pieces_past_due, A.min_rec_stock,\n",
    "      B.sales_1_mon, B.sales_3_mon, B.sales_6_mon,\n",
    "      C.forecast_3_mon, C.forecast_6_mon,\n",
    "      D.lead_time, D.potential_issue,\n",
    "      E.backorder\n",
    "FROM `backorder_chain_example.inventory` as A\n",
    "INNER JOIN  `backorder_chain_example.sales`  as B\n",
    "ON A.sku = B.sku\n",
    "INNER JOIN `backorder_chain_example.forecast` as C\n",
    "ON A.sku = C.sku\n",
    "INNER JOIN `backorder_chain_example.inventory_ordering` as D\n",
    "ON A.sku = D.sku\n",
    "INNER JOIN `backorder_chain_example.backorder` as E\n",
    "ON A.sku = E.sku\n",
    "  \"\"\"\n",
    "start = time.time()\n",
    "\n",
    "#We will imput the data from the query and re-create the dataframe we created earlier\n",
    "df = pd.read_gbq(sql, dialect='standard', project_id=project_id)\n",
    "\n",
    "end = time.time()\n",
    "print(\"Query time was \" + str(np.round((end-start)/60,2)) + \" minutes\")"
   ]
  },
  {
   "cell_type": "code",
   "execution_count": 142,
   "metadata": {},
   "outputs": [
    {
     "name": "stdout",
     "output_type": "stream",
     "text": [
      "Unbalanced count is Counter({0: 1140175, 1: 59825})\n",
      "Rebalanced count is Counter({0: 1140175, 1: 1140175})\n"
     ]
    }
   ],
   "source": [
    "#Define X and y\n",
    "y = df['backorder']\n",
    "X = df.drop(columns=['backorder'])\n",
    "y_classes = np.array(['no_backorder', 'Backorder'])\n",
    "\n",
    "#Get training set\n",
    "X_train, X_test, y_train, y_test = train_test_split(X, y, test_size=0.2, random_state=1)\n",
    "\n",
    "#Get test and dev sets\n",
    "X_dev, X_test, y_dev, y_test = train_test_split(X_test, y_test, test_size = 0.5, random_state = 1)\n",
    "\n",
    "#Drop sku\n",
    "X_train = X_train.drop(columns=['sku'])\n",
    "\n",
    "#Using smote to rebalance data\n",
    "from collections import Counter\n",
    "\n",
    "#Import oversampling \n",
    "from imblearn.over_sampling import SMOTE\n",
    "sm = SMOTE(random_state=42)\n",
    "\n",
    "#Resample\n",
    "current_count = Counter(y_train)\n",
    "print(f\"Unbalanced count is {current_count}\")\n",
    "\n",
    "X_res, y_res = sm.fit_resample(X_train, y_train)\n",
    "\n",
    "resampled_count = Counter(y_res)\n",
    "print(f\"Rebalanced count is {resampled_count}\")"
   ]
  },
  {
   "cell_type": "code",
   "execution_count": 147,
   "metadata": {},
   "outputs": [
    {
     "name": "stdout",
     "output_type": "stream",
     "text": [
      "X_res shape is (2280350, 10)\n",
      "y_res shape is (2280350,)\n"
     ]
    }
   ],
   "source": [
    "X_shape = X_res.shape\n",
    "y_shape = y_res.shape\n",
    "print(f\"X_res shape is {X_shape}\")\n",
    "print(f\"y_res shape is {y_shape}\")"
   ]
  },
  {
   "cell_type": "code",
   "execution_count": 148,
   "metadata": {},
   "outputs": [],
   "source": [
    "#Normalize data\n",
    "\n",
    "def norm(X_train):\n",
    "    mean_val = np.mean(X_train, axis=0)\n",
    "    train_max = np.max(X_train, axis=0)\n",
    "    train_min = np.min(X_train,axis=0)\n",
    "    \n",
    "    train_norm = np.asanyarray((X_train-mean_val)/(train_max - train_min))\n",
    "    \n",
    "    return train_norm"
   ]
  },
  {
   "cell_type": "code",
   "execution_count": 149,
   "metadata": {},
   "outputs": [],
   "source": [
    "X_train_norm = norm(X_res)\n",
    "assert X_train_norm.shape == X_res.shape"
   ]
  },
  {
   "cell_type": "code",
   "execution_count": 150,
   "metadata": {},
   "outputs": [],
   "source": [
    "#Select 200K records and exclude sku\n",
    "X_train_norm2 = X_train_norm[:200000,]\n",
    "y_train2 = y_res[:200000,]"
   ]
  },
  {
   "cell_type": "code",
   "execution_count": 151,
   "metadata": {},
   "outputs": [
    {
     "data": {
      "image/png": "[encoded data removed]",
      "text/plain": [
       "<Figure size 432x288 with 1 Axes>"
      ]
     },
     "metadata": {
      "needs_background": "light"
     },
     "output_type": "display_data"
    }
   ],
   "source": [
    "#Keras model\n",
    "\n",
    "\"\"\"\n",
    "This section builds a DNN using Keras and Tensorflow\n",
    "- Input layer will have shape of (10,10) - 10 nodes and 10 inputs\n",
    "- Hidden layer will have shape of (4,10) - 4 nodes and 10 inputs\n",
    "- Output layer will have shape of (1,4) - 1 node with 4 inputs\n",
    "\n",
    "- We will specify a Relu activation in the first two layers followed by sigmoid\n",
    "in the last in order to predict a probability between 0 and 1 (for binary classification).\n",
    "- We will also use binary cross entropy because this is a binary classification problem along with ADAM algo for gradient descent.\n",
    "\n",
    "After compiling and fitting the model, we will make class predictions, a confusion matrix \n",
    "and a list of the expected probability for each item on backorder.\n",
    "\n",
    "\"\"\"\n",
    "\n",
    "logdir=\"Logs/\" + datetime.now().strftime(\"%Y%m%d-%H%M%S\")\n",
    "tensorboard_callback = keras.callbacks.TensorBoard(log_dir=logdir)\n",
    "\n",
    "input_dim_ = X_train_norm.shape[1]\n",
    "\n",
    "model = Sequential()\n",
    "model.add(Dense(10, input_dim = input_dim_, activation='relu'))\n",
    "model.add(Dense(4, activation='relu'))\n",
    "model.add(Dense(1, activation='sigmoid'))\n",
    "\n",
    "#Compile keras model\n",
    "model.compile(loss='binary_crossentropy', optimizer='adam', metrics=['accuracy'])\n",
    "\n",
    "#Fit Model\n",
    "model = model.fit(X_train_norm2, y_train2, verbose=0,validation_split= .05, epochs=100, batch_size=64, callbacks=[tensorboard_callback])\n",
    "\n",
    "# Get training and test loss histories\n",
    "training_loss = np.asanyarray(model.history['loss'])\n",
    "test_loss = np.asanyarray(model.history['val_loss'])\n",
    "\n",
    "# Create count of the number of epochs\n",
    "epoch_count = np.asanyarray(range(1, len(training_loss) + 1))\n",
    "\n",
    "# Visualize loss history\n",
    "plt.plot(epoch_count, training_loss, 'r--')\n",
    "plt.plot(epoch_count, test_loss, 'b-')\n",
    "plt.legend(['Training Loss', 'Test Loss'])\n",
    "plt.xlabel('Epoch')\n",
    "plt.ylabel('Loss')\n",
    "plt.show()"
   ]
  },
  {
   "cell_type": "code",
   "execution_count": 152,
   "metadata": {},
   "outputs": [
    {
     "name": "stdout",
     "output_type": "stream",
     "text": [
      "(10000, 10)\n",
      "(10000,)\n"
     ]
    }
   ],
   "source": [
    "#Sample a subset of the data and remove sku\n",
    "X_test_drop_sku = X_test.drop(columns=['sku'])\n",
    "\n",
    "#Normalize X_test data\n",
    "X_test_norm=norm(X_test_drop_sku)\n",
    "\n",
    "X_test_norm = X_test_norm[:10000,]\n",
    "y_test = y_test[:10000,]\n",
    "\n",
    "print(X_test_norm.shape)\n",
    "print(y_test.shape)"
   ]
  },
  {
   "cell_type": "code",
   "execution_count": 153,
   "metadata": {},
   "outputs": [],
   "source": [
    "y_test_pred =model.model.predict_classes(X_test_norm)"
   ]
  },
  {
   "cell_type": "code",
   "execution_count": 154,
   "metadata": {},
   "outputs": [
    {
     "name": "stdout",
     "output_type": "stream",
     "text": [
      "Normalized confusion matrix\n",
      "[[0.96830912 0.03169088]\n",
      " [0.61553785 0.38446215]]\n"
     ]
    },
    {
     "data": {
      "image/png": "[encoded data removed]",
      "text/plain": [
       "<Figure size 432x288 with 2 Axes>"
      ]
     },
     "metadata": {
      "needs_background": "light"
     },
     "output_type": "display_data"
    }
   ],
   "source": [
    "#Class labels\n",
    "y_classes = np.array(['no_backorder', 'Backorder'])\n",
    "\n",
    "# Plot confusion matrix\n",
    "plot_confusion_matrix(y_test, y_test_pred, classes=y_classes, normalize=True, title='Confusion matrix')\n",
    "\n",
    "plt.show()"
   ]
  },
  {
   "cell_type": "markdown",
   "metadata": {},
   "source": [
    "### The current network predicts backorder with 38% accuracy with a first pass through using only 200K individual cases. The full run on a GCP-VM with GPU support puts the accuracy arround 80%.\n",
    "Things we can do to improve accuracy of the dev set:\n",
    "- Train with all data\n",
    "- Change network architecture\n",
    "- Change batch size, batch normalization\n",
    "- Add drop out\n",
    "- Try different gradient descent algos"
   ]
  },
  {
   "cell_type": "markdown",
   "metadata": {},
   "source": [
    "### What if we wanted to know the probability?\n",
    "- With limited resources, we will only be able to prioritize a select few items per day to focus on improving.\n",
    "- Instead of class prediction, we can return the estimated probability of an item going on backorder."
   ]
  },
  {
   "cell_type": "code",
   "execution_count": 242,
   "metadata": {},
   "outputs": [],
   "source": [
    "#Get predictions\n",
    "y_test_prob =model.model.predict(X_test_norm).ravel()\n",
    "\n",
    "#Get skus\n",
    "sku = X_test['sku'][:10000]\n",
    "\n",
    "#Adding random day for later visualization\n",
    "day = [np.random.randint(1,31) for i in range(0,len(sku))]\n",
    "\n",
    "#Combine into dataframe\n",
    "inventory_prob = pd.DataFrame({'day':day, \n",
    "                               'sku':sku, \n",
    "                               'prob_backorder':y_test_prob}).sort_values(['day', 'prob_backorder'], ascending=[True, False])"
   ]
  },
  {
   "cell_type": "code",
   "execution_count": 243,
   "metadata": {},
   "outputs": [
    {
     "data": {
      "text/html": [
       "<div>\n",
       "<style scoped>\n",
       "    .dataframe tbody tr th:only-of-type {\n",
       "        vertical-align: middle;\n",
       "    }\n",
       "\n",
       "    .dataframe tbody tr th {\n",
       "        vertical-align: top;\n",
       "    }\n",
       "\n",
       "    .dataframe thead th {\n",
       "        text-align: right;\n",
       "    }\n",
       "</style>\n",
       "<table border=\"1\" class=\"dataframe\">\n",
       "  <thead>\n",
       "    <tr style=\"text-align: right;\">\n",
       "      <th></th>\n",
       "      <th>day</th>\n",
       "      <th>sku</th>\n",
       "      <th>prob_backorder</th>\n",
       "    </tr>\n",
       "  </thead>\n",
       "  <tbody>\n",
       "    <tr>\n",
       "      <th>1390734</th>\n",
       "      <td>1</td>\n",
       "      <td>1198542</td>\n",
       "      <td>0.866655</td>\n",
       "    </tr>\n",
       "    <tr>\n",
       "      <th>55831</th>\n",
       "      <td>1</td>\n",
       "      <td>1347950</td>\n",
       "      <td>0.796215</td>\n",
       "    </tr>\n",
       "    <tr>\n",
       "      <th>415597</th>\n",
       "      <td>1</td>\n",
       "      <td>1252976</td>\n",
       "      <td>0.776303</td>\n",
       "    </tr>\n",
       "    <tr>\n",
       "      <th>1050669</th>\n",
       "      <td>1</td>\n",
       "      <td>1176770</td>\n",
       "      <td>0.741105</td>\n",
       "    </tr>\n",
       "    <tr>\n",
       "      <th>796204</th>\n",
       "      <td>1</td>\n",
       "      <td>597833</td>\n",
       "      <td>0.703552</td>\n",
       "    </tr>\n",
       "    <tr>\n",
       "      <th>627242</th>\n",
       "      <td>1</td>\n",
       "      <td>1259093</td>\n",
       "      <td>0.685835</td>\n",
       "    </tr>\n",
       "    <tr>\n",
       "      <th>109170</th>\n",
       "      <td>1</td>\n",
       "      <td>509956</td>\n",
       "      <td>0.631692</td>\n",
       "    </tr>\n",
       "    <tr>\n",
       "      <th>893454</th>\n",
       "      <td>1</td>\n",
       "      <td>835355</td>\n",
       "      <td>0.630772</td>\n",
       "    </tr>\n",
       "    <tr>\n",
       "      <th>566015</th>\n",
       "      <td>1</td>\n",
       "      <td>447447</td>\n",
       "      <td>0.585249</td>\n",
       "    </tr>\n",
       "    <tr>\n",
       "      <th>346654</th>\n",
       "      <td>1</td>\n",
       "      <td>1142325</td>\n",
       "      <td>0.571224</td>\n",
       "    </tr>\n",
       "    <tr>\n",
       "      <th>545905</th>\n",
       "      <td>1</td>\n",
       "      <td>1356294</td>\n",
       "      <td>0.558742</td>\n",
       "    </tr>\n",
       "    <tr>\n",
       "      <th>220778</th>\n",
       "      <td>1</td>\n",
       "      <td>1090374</td>\n",
       "      <td>0.518026</td>\n",
       "    </tr>\n",
       "    <tr>\n",
       "      <th>737344</th>\n",
       "      <td>1</td>\n",
       "      <td>412261</td>\n",
       "      <td>0.512977</td>\n",
       "    </tr>\n",
       "    <tr>\n",
       "      <th>396939</th>\n",
       "      <td>1</td>\n",
       "      <td>302760</td>\n",
       "      <td>0.509251</td>\n",
       "    </tr>\n",
       "    <tr>\n",
       "      <th>1196317</th>\n",
       "      <td>1</td>\n",
       "      <td>115847</td>\n",
       "      <td>0.500535</td>\n",
       "    </tr>\n",
       "    <tr>\n",
       "      <th>528542</th>\n",
       "      <td>1</td>\n",
       "      <td>1053666</td>\n",
       "      <td>0.491529</td>\n",
       "    </tr>\n",
       "    <tr>\n",
       "      <th>516455</th>\n",
       "      <td>1</td>\n",
       "      <td>620033</td>\n",
       "      <td>0.479476</td>\n",
       "    </tr>\n",
       "    <tr>\n",
       "      <th>528391</th>\n",
       "      <td>1</td>\n",
       "      <td>1431179</td>\n",
       "      <td>0.471602</td>\n",
       "    </tr>\n",
       "    <tr>\n",
       "      <th>241047</th>\n",
       "      <td>1</td>\n",
       "      <td>655094</td>\n",
       "      <td>0.454583</td>\n",
       "    </tr>\n",
       "    <tr>\n",
       "      <th>1441739</th>\n",
       "      <td>1</td>\n",
       "      <td>547983</td>\n",
       "      <td>0.435973</td>\n",
       "    </tr>\n",
       "  </tbody>\n",
       "</table>\n",
       "</div>"
      ],
      "text/plain": [
       "         day      sku  prob_backorder\n",
       "1390734    1  1198542        0.866655\n",
       "55831      1  1347950        0.796215\n",
       "415597     1  1252976        0.776303\n",
       "1050669    1  1176770        0.741105\n",
       "796204     1   597833        0.703552\n",
       "627242     1  1259093        0.685835\n",
       "109170     1   509956        0.631692\n",
       "893454     1   835355        0.630772\n",
       "566015     1   447447        0.585249\n",
       "346654     1  1142325        0.571224\n",
       "545905     1  1356294        0.558742\n",
       "220778     1  1090374        0.518026\n",
       "737344     1   412261        0.512977\n",
       "396939     1   302760        0.509251\n",
       "1196317    1   115847        0.500535\n",
       "528542     1  1053666        0.491529\n",
       "516455     1   620033        0.479476\n",
       "528391     1  1431179        0.471602\n",
       "241047     1   655094        0.454583\n",
       "1441739    1   547983        0.435973"
      ]
     },
     "execution_count": 243,
     "metadata": {},
     "output_type": "execute_result"
    }
   ],
   "source": [
    "inventory_prob.head(20)"
   ]
  }
 ],
 "metadata": {
  "kernelspec": {
   "display_name": "Python 3",
   "language": "python",
   "name": "python3"
  },
  "language_info": {
   "codemirror_mode": {
    "name": "ipython",
    "version": 3
   },
   "file_extension": ".py",
   "mimetype": "text/x-python",
   "name": "python",
   "nbconvert_exporter": "python",
   "pygments_lexer": "ipython3",
   "version": "3.6.8"
  }
 },
 "nbformat": 4,
 "nbformat_minor": 4
}
